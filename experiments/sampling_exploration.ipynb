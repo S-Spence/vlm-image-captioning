{
 "cells": [
  {
   "cell_type": "markdown",
   "metadata": {},
   "source": [
    "# Exploration of Sampling Techniques\n",
    "\n",
    "This notebook explores sampling techniques for the problem of image captioning. The notebooks tests beam search, argmax, and top-p sampling with the trained VLM models. \n",
    "\n",
    "Note: the experiments must be run to create saved model weights before running this notebook. "
   ]
  },
  {
   "cell_type": "code",
   "execution_count": null,
   "metadata": {
    "vscode": {
     "languageId": "plaintext"
    }
   },
   "outputs": [],
   "source": [
    "import os\n",
    "import sys\n",
    "import torch\n",
    "import torch.nn as nn\n",
    "from transformers import AutoTokenizer\n",
    "import datetime\n",
    "import logging\n",
    "logging.getLogger(\"transformers\").setLevel(logging.ERROR)\n",
    "\n",
    "\"\"\"\n",
    "Add support for either running in collab by uploading this notebook and\n",
    "mounting the directory or locally from the room or experiments folder\"\n",
    "\"\"\"\n",
    "IN_COLAB = 'google.colab' in sys.modules\n",
    "\n",
    "if IN_COLAB:\n",
    "    from google.colab import drive\n",
    "    drive.mount('/content/drive')\n",
    "\n",
    "    # NOTE: change the drive path if running with a mounted google drive in collab\n",
    "    project_root = \"/content/drive/Othercomputers/My MacBook Pro/image-captioning\"\n",
    "else:\n",
    "    cwd = os.getcwd()\n",
    "\n",
    "    if cwd.endswith(\"experiments\"):\n",
    "        project_root = os.path.abspath(os.path.join(cwd, '..'))\n",
    "    else:\n",
    "        project_root = cwd\n",
    "\n",
    "if project_root not in sys.path:\n",
    "    sys.path.append(project_root)\n",
    "\n",
    "print(\"Project root:\", project_root)\n",
    "\n",
    "if IN_COLAB:\n",
    "    !pip install evaluate > /dev/null 2>&1\n",
    "    !pip install pycocoevalcap > /dev/null 2>&1\n",
    "\n",
    "\n",
    "from vision_language_model import VisionLanguageModel\n",
    "import train as train\n",
    "import data_processing as dp\n",
    "import download_data as get_data\n",
    "import evaluation as eval\n",
    "\n",
    "\n",
    "device = torch.device(\"cuda\" if torch.cuda.is_available() else\n",
    "                      \"mps\" if torch.backends.mps.is_available() else \"cpu\")\n",
    "\n",
    "experiment = \"sampling_exploration\"\n",
    "timestamp = datetime.datetime.now().strftime(\"%Y-%m-%d_%H-%M-%S\")"
   ]
  },
  {
   "cell_type": "code",
   "execution_count": null,
   "metadata": {
    "vscode": {
     "languageId": "plaintext"
    }
   },
   "outputs": [],
   "source": [
    "# download data, keep it outside of the mounted directory if running in collab to avoid data transfer overhead\n",
    "if IN_COLAB:\n",
    "    data_dir = \"/content/flickr30k_data\"\n",
    "else:\n",
    "    data_dir = os.path.join(project_root, \"flickr30k_data\")\n",
    "\n",
    "# only download data if it does not already exist\n",
    "if not os.path.exists(data_dir) or not os.listdir(data_dir):\n",
    "    os.makedirs(data_dir, exist_ok=True)\n",
    "    get_data.download_and_partition(data_dir)\n",
    "else:\n",
    "    print(f\"Data already exists in {data_dir}, skipping download.\")\n",
    "\n",
    "# setup saving directories\n",
    "model_weights_dir = os.path.join(project_root, \"model_weights\")\n",
    "evaluations_dir = os.path.join(project_root, \"evaluations\")\n",
    "os.makedirs(model_weights_dir, exist_ok=True)\n",
    "os.makedirs(evaluations_dir, exist_ok=True)"
   ]
  },
  {
   "cell_type": "markdown",
   "metadata": {},
   "source": [
    "## ViT/GPT2 Sampling Exploration"
   ]
  },
  {
   "cell_type": "code",
   "execution_count": null,
   "metadata": {
    "vscode": {
     "languageId": "plaintext"
    }
   },
   "outputs": [],
   "source": [
    "tokenizer = AutoTokenizer.from_pretrained(\"gpt2\")\n",
    "tokenizer.pad_token = tokenizer.eos_token\n",
    "\n",
    "# model config for stage one\n",
    "model = VisionLanguageModel(\n",
    "    image_encoder_type=\"vit\",\n",
    "    llava_projections=True,\n",
    "    cross_attention=False,\n",
    "    debug=False,\n",
    "    decoder_type=\"gpt2\",\n",
    "    d_model=768,\n",
    "    tokenizer=tokenizer\n",
    "    ).to(device)\n",
    "\n",
    "model_path=os.path.join(model_weights_dir, \"experiment_1_finetune_weights_2025-04-13_23-08-39.pt\")\n",
    "state_dict = torch.load(model_path, map_location=device)\n",
    "model.load_state_dict(state_dict)"
   ]
  },
  {
   "cell_type": "markdown",
   "metadata": {},
   "source": [
    "### Beam Search: 2 beams"
   ]
  },
  {
   "cell_type": "code",
   "execution_count": null,
   "metadata": {
    "vscode": {
     "languageId": "plaintext"
    }
   },
   "outputs": [],
   "source": [
    "test_loader = dp.batch_stream(\"captions.txt\", os.path.join(data_dir, \"test\"), batch_size=4, eval_mode=True, seed=32)\n",
    "\n",
    "bleu, cider = eval.evaluate_bleu_cider(\n",
    "    model=model,\n",
    "    data_loader=test_loader,\n",
    "    display_captions=True,\n",
    "    save_captions_path=os.path.join(evaluations_dir, f\"{experiment}_captions_{timestamp}.jpg\"),\n",
    "    max_new_tokens=15,\n",
    "    max_batches=250,\n",
    "    num_beams=2\n",
    ")\n",
    "\n",
    "print(f\"BLEU: {bleu:.4f}, CIDEr: {cider:.4f}\")"
   ]
  },
  {
   "cell_type": "markdown",
   "metadata": {},
   "source": [
    "### Top P Sampling: p=0.8, temperature=0.7"
   ]
  },
  {
   "cell_type": "code",
   "execution_count": null,
   "metadata": {
    "vscode": {
     "languageId": "plaintext"
    }
   },
   "outputs": [],
   "source": [
    "test_loader = dp.batch_stream(\"captions.txt\", os.path.join(data_dir, \"test\"), batch_size=4, eval_mode=True, seed=32)\n",
    "\n",
    "bleu, cider = eval.evaluate_bleu_cider(\n",
    "    model=model,\n",
    "    data_loader=test_loader,\n",
    "    display_captions=True,\n",
    "    save_captions_path=os.path.join(evaluations_dir, f\"{experiment}_captions_{timestamp}.jpg\"),\n",
    "    max_new_tokens=15,\n",
    "    max_batches=250,\n",
    "    do_sample=True,\n",
    "    top_p=0.8,\n",
    "    temperature=0.7\n",
    ")\n",
    "\n",
    "print(f\"BLEU: {bleu:.4f}, CIDEr: {cider:.4f}\")"
   ]
  },
  {
   "cell_type": "markdown",
   "metadata": {},
   "source": [
    "### Argmax: 1 beam"
   ]
  },
  {
   "cell_type": "code",
   "execution_count": null,
   "metadata": {
    "vscode": {
     "languageId": "plaintext"
    }
   },
   "outputs": [],
   "source": [
    "test_loader = dp.batch_stream(\"captions.txt\", os.path.join(data_dir, \"test\"), batch_size=4, eval_mode=True, seed=32)\n",
    "\n",
    "bleu, cider = eval.evaluate_bleu_cider(\n",
    "    model=model,\n",
    "    data_loader=test_loader,\n",
    "    display_captions=True,\n",
    "    save_captions_path=os.path.join(evaluations_dir, f\"{experiment}_captions_{timestamp}.jpg\"),\n",
    "    max_new_tokens=15,\n",
    "    max_batches=250,\n",
    "    num_beams=1\n",
    ")\n",
    "\n",
    "print(f\"BLEU: {bleu:.4f}, CIDEr: {cider:.4f}\")"
   ]
  },
  {
   "cell_type": "markdown",
   "metadata": {},
   "source": [
    "## Clip/Vicuna 7b Sampling Exploration"
   ]
  },
  {
   "cell_type": "code",
   "execution_count": null,
   "metadata": {
    "vscode": {
     "languageId": "plaintext"
    }
   },
   "outputs": [],
   "source": [
    "tokenizer = AutoTokenizer.from_pretrained(\"lmsys/vicuna-7b-v1.5\")\n",
    "tokenizer.pad_token = tokenizer.eos_token\n",
    "\n",
    "# model config for stage one\n",
    "model = VisionLanguageModel(\n",
    "    image_encoder_type=\"clip\",\n",
    "    llava_projections=True,\n",
    "    cross_attention=False,\n",
    "    debug=False,\n",
    "    decoder_type=\"vicuna\",\n",
    "    d_model=4096,\n",
    "    tokenizer=tokenizer\n",
    "    ).to(device)\n",
    "\n",
    "loss_fn = nn.CrossEntropyLoss(ignore_index=tokenizer.pad_token_id)\n",
    "\n",
    "model_path=os.path.join(model_weights_dir, \"experiment_4_finetune_weights_2025-04-14_14-56-03.pt\")\n",
    "state_dict = torch.load(model_path, map_location=device)\n",
    "model.load_state_dict(state_dict)"
   ]
  },
  {
   "cell_type": "markdown",
   "metadata": {},
   "source": [
    "### Beam Search: 2 beams"
   ]
  },
  {
   "cell_type": "code",
   "execution_count": null,
   "metadata": {
    "vscode": {
     "languageId": "plaintext"
    }
   },
   "outputs": [],
   "source": [
    "test_loader = dp.batch_stream(\"captions.txt\", os.path.join(data_dir, \"test\"), batch_size=2, eval_mode=True, seed=32)\n",
    "\n",
    "bleu, cider = eval.evaluate_bleu_cider(\n",
    "    model=model,\n",
    "    data_loader=test_loader,\n",
    "    display_captions=True,\n",
    "    save_captions_path=os.path.join(evaluations_dir, f\"{experiment}_captions_{timestamp}.jpg\"),\n",
    "    max_new_tokens=15,\n",
    "    max_batches=500,\n",
    "    num_beams=2\n",
    ")\n",
    "\n",
    "print(f\"BLEU: {bleu:.4f}, CIDEr: {cider:.4f}\")"
   ]
  },
  {
   "cell_type": "markdown",
   "metadata": {},
   "source": [
    "### Top P Sampling: p=0.8, temperature=0.7"
   ]
  },
  {
   "cell_type": "code",
   "execution_count": null,
   "metadata": {
    "vscode": {
     "languageId": "plaintext"
    }
   },
   "outputs": [],
   "source": [
    "test_loader = dp.batch_stream(\"captions.txt\", os.path.join(data_dir, \"test\"), batch_size=2, eval_mode=True, seed=32)\n",
    "\n",
    "bleu, cider = eval.evaluate_bleu_cider(\n",
    "    model=model,\n",
    "    data_loader=test_loader,\n",
    "    display_captions=True,\n",
    "    save_captions_path=os.path.join(evaluations_dir, f\"{experiment}_captions_{timestamp}.jpg\"),\n",
    "    max_new_tokens=15,\n",
    "    max_batches=500,\n",
    "    do_sample=True,\n",
    "    top_p=0.8,\n",
    "    temperature=0.7\n",
    ")\n",
    "\n",
    "print(f\"BLEU: {bleu:.4f}, CIDEr: {cider:.4f}\")"
   ]
  },
  {
   "cell_type": "markdown",
   "metadata": {},
   "source": [
    "### Argmax: 1 beam"
   ]
  },
  {
   "cell_type": "code",
   "execution_count": null,
   "metadata": {
    "vscode": {
     "languageId": "plaintext"
    }
   },
   "outputs": [],
   "source": [
    "test_loader = dp.batch_stream(\"captions.txt\", os.path.join(data_dir, \"test\"), batch_size=2, eval_mode=True, seed=32)\n",
    "\n",
    "bleu, cider = eval.evaluate_bleu_cider(\n",
    "    model=model,\n",
    "    data_loader=test_loader,\n",
    "    display_captions=True,\n",
    "    save_captions_path=os.path.join(evaluations_dir, f\"{experiment}_captions_{timestamp}.jpg\"),\n",
    "    max_new_tokens=15,\n",
    "    max_batches=500,\n",
    "    num_beams=1\n",
    ")\n",
    "\n",
    "print(f\"BLEU: {bleu:.4f}, CIDEr: {cider:.4f}\")"
   ]
  }
 ],
 "metadata": {
  "language_info": {
   "name": "python"
  }
 },
 "nbformat": 4,
 "nbformat_minor": 2
}
