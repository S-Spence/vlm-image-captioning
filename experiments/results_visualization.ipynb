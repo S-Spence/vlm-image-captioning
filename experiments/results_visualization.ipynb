{
 "cells": [
  {
   "cell_type": "markdown",
   "metadata": {},
   "source": [
    "# Results"
   ]
  },
  {
   "cell_type": "code",
   "execution_count": null,
   "metadata": {
    "vscode": {
     "languageId": "plaintext"
    }
   },
   "outputs": [],
   "source": [
    "import matplotlib.pyplot as plt\n",
    "from PIL import Image\n",
    "import os"
   ]
  },
  {
   "cell_type": "code",
   "execution_count": null,
   "metadata": {
    "vscode": {
     "languageId": "plaintext"
    }
   },
   "outputs": [],
   "source": [
    "# List of image file paths and corresponding titles\n",
    "image_paths = ['chart1.png', 'chart2.png', ..., 'chart36.png']\n",
    "titles = ['Llava ViT/GPT2', 'Llava ViT/Vicuna 7b', 'Llava Clip/GPT2', 'Llava Clip/Vicuna 7b', 'Llava Clip/GPT2 Cross Attention', 'Clip/GPT2 Cross Attention']\n",
    "\n",
    "fig, axes = plt.subplots(6, 6, figsize=(18, 18))\n",
    "for idx, ax in enumerate(axes.flat):\n",
    "    img = Image.open(image_paths[idx])\n",
    "    ax.imshow(img)\n",
    "    ax.set_title(titles[idx], fontsize=10)\n",
    "    ax.axis('off')\n",
    "\n",
    "plt.tight_layout()\n",
    "plt.savefig('combined_grid.png', dpi=300)"
   ]
  }
 ],
 "metadata": {
  "language_info": {
   "name": "python"
  }
 },
 "nbformat": 4,
 "nbformat_minor": 2
}
